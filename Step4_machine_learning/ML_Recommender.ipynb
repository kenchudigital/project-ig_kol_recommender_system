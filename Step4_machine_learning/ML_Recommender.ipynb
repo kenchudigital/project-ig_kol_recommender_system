{
 "cells": [
  {
   "cell_type": "code",
   "execution_count": 3,
   "id": "1f369c05-6206-406a-88d1-510c8e567e93",
   "metadata": {},
   "outputs": [
    {
     "ename": "KeyError",
     "evalue": "\"['following_list', 'is_HK'] not in index\"",
     "output_type": "error",
     "traceback": [
      "\u001b[0;31m---------------------------------------------------------------------------\u001b[0m",
      "\u001b[0;31mKeyError\u001b[0m                                  Traceback (most recent call last)",
      "Input \u001b[0;32mIn [3]\u001b[0m, in \u001b[0;36m<cell line: 4>\u001b[0;34m()\u001b[0m\n\u001b[1;32m      2\u001b[0m \u001b[38;5;28;01mimport\u001b[39;00m \u001b[38;5;21;01mpandas\u001b[39;00m \u001b[38;5;28;01mas\u001b[39;00m \u001b[38;5;21;01mpd\u001b[39;00m\n\u001b[1;32m      3\u001b[0m df \u001b[38;5;241m=\u001b[39m pd\u001b[38;5;241m.\u001b[39mread_csv(\u001b[38;5;124m'\u001b[39m\u001b[38;5;124mkol_features.csv\u001b[39m\u001b[38;5;124m'\u001b[39m)\n\u001b[0;32m----> 4\u001b[0m \u001b[43mdf\u001b[49m\u001b[43m[\u001b[49m\u001b[43m[\u001b[49m\u001b[38;5;124;43m'\u001b[39;49m\u001b[38;5;124;43mig_id\u001b[39;49m\u001b[38;5;124;43m'\u001b[39;49m\u001b[43m,\u001b[49m\u001b[43m \u001b[49m\u001b[38;5;124;43m'\u001b[39;49m\u001b[38;5;124;43mfollowing_list\u001b[39;49m\u001b[38;5;124;43m'\u001b[39;49m\u001b[43m,\u001b[49m\u001b[43m \u001b[49m\u001b[38;5;124;43m'\u001b[39;49m\u001b[38;5;124;43mis_HK\u001b[39;49m\u001b[38;5;124;43m'\u001b[39;49m\u001b[43m]\u001b[49m\u001b[43m]\u001b[49m\n\u001b[1;32m      5\u001b[0m df\u001b[38;5;241m.\u001b[39mdrop(df\u001b[38;5;241m.\u001b[39mloc[df\u001b[38;5;241m.\u001b[39mfollowing_list \u001b[38;5;241m==\u001b[39m  \u001b[38;5;124m\"\u001b[39m\u001b[38;5;124myet\u001b[39m\u001b[38;5;124m\"\u001b[39m]\u001b[38;5;241m.\u001b[39mindex, inplace\u001b[38;5;241m=\u001b[39m\u001b[38;5;28;01mTrue\u001b[39;00m)\n\u001b[1;32m      6\u001b[0m df\u001b[38;5;241m.\u001b[39mdrop(df\u001b[38;5;241m.\u001b[39mloc[df\u001b[38;5;241m.\u001b[39mfollowing_list \u001b[38;5;241m==\u001b[39m  \u001b[38;5;124m\"\u001b[39m\u001b[38;5;124m[]\u001b[39m\u001b[38;5;124m\"\u001b[39m]\u001b[38;5;241m.\u001b[39mindex, inplace\u001b[38;5;241m=\u001b[39m\u001b[38;5;28;01mTrue\u001b[39;00m)\n",
      "File \u001b[0;32m~/PycharmProjects/pythonProject/venv/lib/python3.8/site-packages/pandas/core/frame.py:3511\u001b[0m, in \u001b[0;36mDataFrame.__getitem__\u001b[0;34m(self, key)\u001b[0m\n\u001b[1;32m   3509\u001b[0m     \u001b[38;5;28;01mif\u001b[39;00m is_iterator(key):\n\u001b[1;32m   3510\u001b[0m         key \u001b[38;5;241m=\u001b[39m \u001b[38;5;28mlist\u001b[39m(key)\n\u001b[0;32m-> 3511\u001b[0m     indexer \u001b[38;5;241m=\u001b[39m \u001b[38;5;28;43mself\u001b[39;49m\u001b[38;5;241;43m.\u001b[39;49m\u001b[43mcolumns\u001b[49m\u001b[38;5;241;43m.\u001b[39;49m\u001b[43m_get_indexer_strict\u001b[49m\u001b[43m(\u001b[49m\u001b[43mkey\u001b[49m\u001b[43m,\u001b[49m\u001b[43m \u001b[49m\u001b[38;5;124;43m\"\u001b[39;49m\u001b[38;5;124;43mcolumns\u001b[39;49m\u001b[38;5;124;43m\"\u001b[39;49m\u001b[43m)\u001b[49m[\u001b[38;5;241m1\u001b[39m]\n\u001b[1;32m   3513\u001b[0m \u001b[38;5;66;03m# take() does not accept boolean indexers\u001b[39;00m\n\u001b[1;32m   3514\u001b[0m \u001b[38;5;28;01mif\u001b[39;00m \u001b[38;5;28mgetattr\u001b[39m(indexer, \u001b[38;5;124m\"\u001b[39m\u001b[38;5;124mdtype\u001b[39m\u001b[38;5;124m\"\u001b[39m, \u001b[38;5;28;01mNone\u001b[39;00m) \u001b[38;5;241m==\u001b[39m \u001b[38;5;28mbool\u001b[39m:\n",
      "File \u001b[0;32m~/PycharmProjects/pythonProject/venv/lib/python3.8/site-packages/pandas/core/indexes/base.py:5782\u001b[0m, in \u001b[0;36mIndex._get_indexer_strict\u001b[0;34m(self, key, axis_name)\u001b[0m\n\u001b[1;32m   5779\u001b[0m \u001b[38;5;28;01melse\u001b[39;00m:\n\u001b[1;32m   5780\u001b[0m     keyarr, indexer, new_indexer \u001b[38;5;241m=\u001b[39m \u001b[38;5;28mself\u001b[39m\u001b[38;5;241m.\u001b[39m_reindex_non_unique(keyarr)\n\u001b[0;32m-> 5782\u001b[0m \u001b[38;5;28;43mself\u001b[39;49m\u001b[38;5;241;43m.\u001b[39;49m\u001b[43m_raise_if_missing\u001b[49m\u001b[43m(\u001b[49m\u001b[43mkeyarr\u001b[49m\u001b[43m,\u001b[49m\u001b[43m \u001b[49m\u001b[43mindexer\u001b[49m\u001b[43m,\u001b[49m\u001b[43m \u001b[49m\u001b[43maxis_name\u001b[49m\u001b[43m)\u001b[49m\n\u001b[1;32m   5784\u001b[0m keyarr \u001b[38;5;241m=\u001b[39m \u001b[38;5;28mself\u001b[39m\u001b[38;5;241m.\u001b[39mtake(indexer)\n\u001b[1;32m   5785\u001b[0m \u001b[38;5;28;01mif\u001b[39;00m \u001b[38;5;28misinstance\u001b[39m(key, Index):\n\u001b[1;32m   5786\u001b[0m     \u001b[38;5;66;03m# GH 42790 - Preserve name from an Index\u001b[39;00m\n",
      "File \u001b[0;32m~/PycharmProjects/pythonProject/venv/lib/python3.8/site-packages/pandas/core/indexes/base.py:5845\u001b[0m, in \u001b[0;36mIndex._raise_if_missing\u001b[0;34m(self, key, indexer, axis_name)\u001b[0m\n\u001b[1;32m   5842\u001b[0m     \u001b[38;5;28;01mraise\u001b[39;00m \u001b[38;5;167;01mKeyError\u001b[39;00m(\u001b[38;5;124mf\u001b[39m\u001b[38;5;124m\"\u001b[39m\u001b[38;5;124mNone of [\u001b[39m\u001b[38;5;132;01m{\u001b[39;00mkey\u001b[38;5;132;01m}\u001b[39;00m\u001b[38;5;124m] are in the [\u001b[39m\u001b[38;5;132;01m{\u001b[39;00maxis_name\u001b[38;5;132;01m}\u001b[39;00m\u001b[38;5;124m]\u001b[39m\u001b[38;5;124m\"\u001b[39m)\n\u001b[1;32m   5844\u001b[0m not_found \u001b[38;5;241m=\u001b[39m \u001b[38;5;28mlist\u001b[39m(ensure_index(key)[missing_mask\u001b[38;5;241m.\u001b[39mnonzero()[\u001b[38;5;241m0\u001b[39m]]\u001b[38;5;241m.\u001b[39munique())\n\u001b[0;32m-> 5845\u001b[0m \u001b[38;5;28;01mraise\u001b[39;00m \u001b[38;5;167;01mKeyError\u001b[39;00m(\u001b[38;5;124mf\u001b[39m\u001b[38;5;124m\"\u001b[39m\u001b[38;5;132;01m{\u001b[39;00mnot_found\u001b[38;5;132;01m}\u001b[39;00m\u001b[38;5;124m not in index\u001b[39m\u001b[38;5;124m\"\u001b[39m)\n",
      "\u001b[0;31mKeyError\u001b[0m: \"['following_list', 'is_HK'] not in index\""
     ]
    }
   ],
   "source": [
    "# Assoication - Apriori algorithm - support, confidence, lift\n",
    "import pandas as pd\n",
    "df = pd.read_csv('kol_features.csv')\n",
    "df[['ig_id', 'following_list', 'is_HK']]\n",
    "df.drop(df.loc[df.following_list ==  \"yet\"].index, inplace=True)\n",
    "df.drop(df.loc[df.following_list ==  \"[]\"].index, inplace=True)\n",
    "df = df[['ig_id', 'name', 'following_list', 'is_HK', 'no_of_follower']].reset_index(drop=True)"
   ]
  },
  {
   "cell_type": "code",
   "execution_count": null,
   "id": "216d7389-e54d-448b-bff8-1193b979b9da",
   "metadata": {},
   "outputs": [],
   "source": [
    "bad_list = df['following_list'].to_list()\n",
    "good_list = []\n",
    "for x in bad_list:\n",
    "    new = x.replace('\\'', '').replace('[', '').replace(']', '').replace('\\\"', '').split(', ')\n",
    "    good_list.append(new)"
   ]
  },
  {
   "cell_type": "code",
   "execution_count": null,
   "id": "1e31d3d1-7567-44ae-b7d8-e18fa8e85b6a",
   "metadata": {},
   "outputs": [],
   "source": [
    "baskets = good_list"
   ]
  },
  {
   "cell_type": "code",
   "execution_count": null,
   "id": "c607d997-a97f-49a3-a95d-0ea1af8e418d",
   "metadata": {},
   "outputs": [],
   "source": [
    "list_kol = df['ig_id'].to_list()"
   ]
  },
  {
   "cell_type": "code",
   "execution_count": null,
   "id": "3d5d210c-85ec-4d6f-a025-df23e2f21a4f",
   "metadata": {},
   "outputs": [],
   "source": [
    "from efficient_apriori import apriori"
   ]
  },
  {
   "cell_type": "code",
   "execution_count": null,
   "id": "f85d6d56-18b5-44c0-9b50-bf615f6eba57",
   "metadata": {},
   "outputs": [],
   "source": [
    "# kol appear in all others kol following list\n",
    "itemsets, rules = apriori(baskets, min_support=0.05, min_confidence=0.05, max_length=4, verbosity=0)"
   ]
  },
  {
   "cell_type": "code",
   "execution_count": null,
   "id": "6750eb5e-e701-479d-a2c6-4b295eb01cce",
   "metadata": {},
   "outputs": [],
   "source": [
    "def filter_this(x):\n",
    "    rule_list = []\n",
    "    filtered = [rule for rule in rules if x in rule.rhs]\n",
    "    for this_rule in filtered:\n",
    "        rule_list.append(this_rule)\n",
    "    return itemsets"
   ]
  },
  {
   "cell_type": "code",
   "execution_count": null,
   "id": "338bd35c-2005-491e-ae4c-85a1fc7ccf39",
   "metadata": {},
   "outputs": [],
   "source": [
    "from efficient_apriori import generate_rules_apriori"
   ]
  },
  {
   "cell_type": "code",
   "execution_count": 2,
   "id": "f3ae164b-cb65-4b99-8ed0-7a79ac0fbb79",
   "metadata": {},
   "outputs": [
    {
     "ename": "NameError",
     "evalue": "name 'list_kol' is not defined",
     "output_type": "error",
     "traceback": [
      "\u001b[0;31m---------------------------------------------------------------------------\u001b[0m",
      "\u001b[0;31mNameError\u001b[0m                                 Traceback (most recent call last)",
      "Input \u001b[0;32mIn [2]\u001b[0m, in \u001b[0;36m<cell line: 2>\u001b[0;34m()\u001b[0m\n\u001b[1;32m      1\u001b[0m this_dict \u001b[38;5;241m=\u001b[39m {}\n\u001b[0;32m----> 2\u001b[0m \u001b[38;5;28;01mfor\u001b[39;00m x \u001b[38;5;129;01min\u001b[39;00m \u001b[43mlist_kol\u001b[49m:\n\u001b[1;32m      3\u001b[0m     a \u001b[38;5;241m=\u001b[39m filter_this(x)\n\u001b[1;32m      4\u001b[0m     b \u001b[38;5;241m=\u001b[39m itemsets[\u001b[38;5;241m3\u001b[39m]\n",
      "\u001b[0;31mNameError\u001b[0m: name 'list_kol' is not defined"
     ]
    }
   ],
   "source": [
    "this_dict = {}\n",
    "for x in list_kol:\n",
    "    a = filter_this(x)\n",
    "    b = itemsets[3]\n",
    "    this_dict.update(b)\n",
    "dict_df = pd.DataFrame.from_dict(this_dict, orient='index', columns=['number']).reset_index()"
   ]
  },
  {
   "cell_type": "code",
   "execution_count": 10,
   "id": "74f51528-444f-4275-badd-67a0d4c734ba",
   "metadata": {},
   "outputs": [],
   "source": [
    "list_from = []\n",
    "list_suggest = []\n",
    "for x in dict_df['index'].to_list():\n",
    "    list_from.append(x[0])\n",
    "    list_suggest.append(x[1:])"
   ]
  },
  {
   "cell_type": "code",
   "execution_count": 11,
   "id": "3deb8f68-355e-4498-857b-1838cd610088",
   "metadata": {},
   "outputs": [],
   "source": [
    "d = {'from':list_from,'suggest':list_suggest}\n",
    "suggest_df = pd.DataFrame(d)"
   ]
  },
  {
   "cell_type": "code",
   "execution_count": 12,
   "id": "ea3cdd53-d867-4f66-ac3c-64b65bf8d26e",
   "metadata": {},
   "outputs": [],
   "source": [
    "adjust_list = []\n",
    "suggest_df = suggest_df.groupby('from')['suggest'].agg(sum).reset_index()\n",
    "for x in suggest_df['suggest'].to_list():\n",
    "    adjust_list.append(list(set(x)))"
   ]
  },
  {
   "cell_type": "code",
   "execution_count": 13,
   "id": "456b2c83-463d-4bd2-a1e3-311093f77a72",
   "metadata": {},
   "outputs": [],
   "source": [
    "suggest_df['suggest'] = adjust_list"
   ]
  },
  {
   "cell_type": "code",
   "execution_count": 15,
   "id": "d4736a73-3859-4553-97b8-8bbb4af6c6f5",
   "metadata": {},
   "outputs": [],
   "source": [
    "suggest_df.to_csv('result-suggest.csv')"
   ]
  }
 ],
 "metadata": {
  "kernelspec": {
   "display_name": "Python 3 (ipykernel)",
   "language": "python",
   "name": "python3"
  },
  "language_info": {
   "codemirror_mode": {
    "name": "ipython",
    "version": 3
   },
   "file_extension": ".py",
   "mimetype": "text/x-python",
   "name": "python",
   "nbconvert_exporter": "python",
   "pygments_lexer": "ipython3",
   "version": "3.8.5"
  }
 },
 "nbformat": 4,
 "nbformat_minor": 5
}
