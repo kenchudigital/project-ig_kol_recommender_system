{
 "cells": [
  {
   "cell_type": "code",
   "execution_count": 4,
   "id": "f3375523-5516-4f20-b82d-54db699ee1d5",
   "metadata": {},
   "outputs": [],
   "source": [
    "# For checking something wrong ~\n",
    "import pandas as pd\n",
    "from datetime import datetime\n",
    "from gcloud import storage"
   ]
  },
  {
   "cell_type": "code",
   "execution_count": 5,
   "id": "084c5a4e-3964-4bb5-b86a-e8ca8c7cca9a",
   "metadata": {},
   "outputs": [],
   "source": [
    "# read the csv files\n",
    "kol_list_t = pd.read_csv('/Users/chutszkan/Desktop/Final_Project/Final_Script/Step1_scrap_kol_list-image/kol_list.csv', index_col=[0])\n",
    "kol_info_t = pd.read_csv('/Users/chutszkan/Desktop/Final_Project/Final_Script/Step1_scrap_kol_list-image/kol_info.csv', index_col=[0])"
   ]
  },
  {
   "cell_type": "code",
   "execution_count": 6,
   "id": "ad577f02-119d-4010-af83-5998de7a2686",
   "metadata": {},
   "outputs": [
    {
     "name": "stdout",
     "output_type": "stream",
     "text": [
      "己完成 393 items\n",
      "待完成 359 items\n",
      "完成度：54.73537604456824%\n"
     ]
    }
   ],
   "source": [
    "# remin how many ig_account need to scrap following list\n",
    "list = kol_info_t['ig_id'].to_list()\n",
    "kol_list_t = kol_list_t[kol_list_t['ig_id'].isin(list)]\n",
    "n_a = len(kol_list_t[kol_list_t['updated_following_list_time'] != datetime(2020, 1, 1).strftime(\"%Y-%m-%d\")]['ig_id'].to_list())\n",
    "print(f\"己完成 {n_a} items\")\n",
    "n_b = len(kol_list_t[kol_list_t['updated_following_list_time'] == datetime(2020, 1, 1).strftime(\"%Y-%m-%d\")]['ig_id'].to_list())\n",
    "print(f\"待完成 {n_b} items\")\n",
    "print(f\"完成度：{n_a/(n_b+n_b)*100}%\")"
   ]
  },
  {
   "cell_type": "code",
   "execution_count": null,
   "id": "168b7011-2e87-4626-b895-2a2dcee3153e",
   "metadata": {},
   "outputs": [],
   "source": []
  }
 ],
 "metadata": {
  "kernelspec": {
   "display_name": "Python 3 (ipykernel)",
   "language": "python",
   "name": "python3"
  },
  "language_info": {
   "codemirror_mode": {
    "name": "ipython",
    "version": 3
   },
   "file_extension": ".py",
   "mimetype": "text/x-python",
   "name": "python",
   "nbconvert_exporter": "python",
   "pygments_lexer": "ipython3",
   "version": "3.8.5"
  }
 },
 "nbformat": 4,
 "nbformat_minor": 5
}
