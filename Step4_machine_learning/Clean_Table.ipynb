{
 "cells": [
  {
   "cell_type": "code",
   "execution_count": 1,
   "id": "b57e53be-6bbb-4a94-a0d2-7643cd8b5c6e",
   "metadata": {},
   "outputs": [],
   "source": [
    "from gcloud import storage\n",
    "import pandas as pd\n",
    "client = storage.Client.from_service_account_json('../Step4_machine_learning/alpine-freedom-346707-ee6c1a5cbd5f.json')\n",
    "bucket = client.get_bucket('dataproc-staging-us-central1-151287915422-novabmnn')"
   ]
  },
  {
   "cell_type": "code",
   "execution_count": 41,
   "id": "c0407c23-6a46-4c26-a1f5-c4ec7a58db6a",
   "metadata": {},
   "outputs": [],
   "source": [
    "blob = bucket.blob('kol_list.csv')\n",
    "blob.download_to_filename('kol_list.csv')\n",
    "df1 = pd.read_csv('kol_list.csv', index_col=[0])"
   ]
  },
  {
   "cell_type": "code",
   "execution_count": 42,
   "id": "68881da4-990d-4921-8b15-9ab6d58c3534",
   "metadata": {},
   "outputs": [],
   "source": [
    "blob = bucket.blob('kol_info.csv')\n",
    "blob.download_to_filename('kol_info.csv')\n",
    "df2 = pd.read_csv('kol_info.csv', index_col=[0])"
   ]
  },
  {
   "cell_type": "code",
   "execution_count": 43,
   "id": "604a3ec6-95be-4ff0-9f52-9df4ae852a9c",
   "metadata": {},
   "outputs": [],
   "source": [
    "blob = bucket.blob('kol_post.csv')\n",
    "blob.download_to_filename('kol_post.csv')\n",
    "df3 = pd.read_csv('kol_post.csv', index_col=[0])"
   ]
  },
  {
   "cell_type": "code",
   "execution_count": 44,
   "id": "853d79cd-c4ae-484b-9254-48e48255a02b",
   "metadata": {},
   "outputs": [],
   "source": [
    "blob = bucket.blob('result_all.csv')\n",
    "blob.download_to_filename('result_all.csv')\n",
    "df4 = pd.read_csv('result_all.csv', index_col=[0])"
   ]
  },
  {
   "cell_type": "code",
   "execution_count": 49,
   "id": "e0da59ab-5cb1-455d-bdd0-810699e1c752",
   "metadata": {},
   "outputs": [],
   "source": [
    "df1 = df1.set_index('ig_id')"
   ]
  },
  {
   "cell_type": "code",
   "execution_count": 50,
   "id": "af997790-cc26-45cf-ae50-13c86d7cf001",
   "metadata": {},
   "outputs": [],
   "source": [
    "df2 = df2.set_index('ig_id')"
   ]
  },
  {
   "cell_type": "code",
   "execution_count": 52,
   "id": "c71005c9-7f5e-4360-8f3c-b4d7cfade17c",
   "metadata": {},
   "outputs": [],
   "source": [
    "df3 = df3.set_index('ig_id')"
   ]
  },
  {
   "cell_type": "code",
   "execution_count": 54,
   "id": "30fe2d6a-db4b-4986-9ec7-0f2e057981d3",
   "metadata": {},
   "outputs": [],
   "source": [
    "df4 = df4.set_index('ig_id')"
   ]
  },
  {
   "cell_type": "code",
   "execution_count": 2,
   "id": "6e10a5f4-4439-4eab-a5f1-0f57fac8c843",
   "metadata": {},
   "outputs": [],
   "source": [
    "df5 = pd.read_csv('kol_features.csv')"
   ]
  },
  {
   "cell_type": "code",
   "execution_count": 3,
   "id": "1288d0d8-ee1c-46bb-9b82-596e3e98a2d6",
   "metadata": {},
   "outputs": [],
   "source": [
    "df5 = df5.set_index('ig_id')"
   ]
  },
  {
   "cell_type": "code",
   "execution_count": 59,
   "id": "8f62ea68-1b40-4821-8baf-4d6bc5abf337",
   "metadata": {},
   "outputs": [],
   "source": [
    "df1.to_csv('kol_list.csv')\n",
    "df2.to_csv('kol_info.csv')\n",
    "df3.to_csv('kol_post.csv')\n",
    "df4.to_csv('result_all.csv')\n",
    "df5.to_csv('kol_features.csv')"
   ]
  },
  {
   "cell_type": "code",
   "execution_count": 4,
   "id": "ad2356c3-1f24-4488-9b01-a045a9c6d1c6",
   "metadata": {},
   "outputs": [
    {
     "data": {
      "text/plain": [
       "is_HK                          752\n",
       "updated_following_list_time    752\n",
       "details_updated_time           752\n",
       "following_list                 752\n",
       "name                           752\n",
       "ig_description                 752\n",
       "no_of_post                     752\n",
       "no_of_follower                 752\n",
       "no_of_following                752\n",
       "profile_img                    752\n",
       "Freq_Day_post                  752\n",
       "image_sum_comment              356\n",
       "image_sum_like_view            356\n",
       "image_mean_comment             356\n",
       "image_mean_like_view           356\n",
       "video_sum_comment              512\n",
       "video_sum_like_view            512\n",
       "video_mean_comment             512\n",
       "video_mean_like_view           512\n",
       "no_of_hashtag                  677\n",
       "content_hashtag                677\n",
       "no_of_content_words            677\n",
       "content                        677\n",
       "no_of_emoji                    677\n",
       "no_of_post_alt_words           677\n",
       "political_words                677\n",
       "Hong_Kong_words                677\n",
       "Food_words                     677\n",
       "Beauty_words                   677\n",
       "Sport_words                    677\n",
       "Travel_words                   677\n",
       "Music_words                    677\n",
       "Education_words                677\n",
       "Art_words                      677\n",
       "Acting_words                   677\n",
       "HK_words                       677\n",
       "Dirty_words                    677\n",
       "profile_img_array              752\n",
       "image_html_link                752\n",
       "Added_HK_IG                    752\n",
       "is_HK_bool                     752\n",
       "dtype: int64"
      ]
     },
     "execution_count": 4,
     "metadata": {},
     "output_type": "execute_result"
    }
   ],
   "source": [
    "df5.count()"
   ]
  },
  {
   "cell_type": "code",
   "execution_count": 61,
   "id": "e17009f3-ee0a-43ca-a2d0-d9ea562e172a",
   "metadata": {},
   "outputs": [],
   "source": [
    "blob = bucket.blob('kol_list.csv')\n",
    "blob.upload_from_filename('kol_list.csv')"
   ]
  },
  {
   "cell_type": "code",
   "execution_count": 62,
   "id": "743e8cf8-632e-4760-a165-8727eb8437b4",
   "metadata": {},
   "outputs": [],
   "source": [
    "blob = bucket.blob('kol_info.csv')\n",
    "blob.upload_from_filename('kol_info.csv')"
   ]
  },
  {
   "cell_type": "code",
   "execution_count": 64,
   "id": "89535ad4-8f7f-4db3-bacd-13b50b7acf90",
   "metadata": {},
   "outputs": [],
   "source": [
    "blob = bucket.blob('kol_post.csv')\n",
    "blob.upload_from_filename('kol_post.csv')"
   ]
  },
  {
   "cell_type": "code",
   "execution_count": 65,
   "id": "638e0c66-8eac-416f-97ff-5346a52f8036",
   "metadata": {},
   "outputs": [],
   "source": [
    "blob = bucket.blob('result_all.csv')\n",
    "blob.upload_from_filename('result_all.csv')"
   ]
  },
  {
   "cell_type": "code",
   "execution_count": 6,
   "id": "f75d1e65-772b-4b6a-8d19-2da2b5dfbaa1",
   "metadata": {},
   "outputs": [],
   "source": [
    "df5 = df5[['profile_img', 'Freq_Day_post', 'image_sum_comment', 'image_sum_like_view', 'image_mean_comment', 'image_mean_like_view', 'video_sum_comment','video_sum_like_view', 'video_sum_comment', 'video_sum_like_view','video_sum_comment', 'video_sum_like_view', 'no_of_hashtag', 'no_of_content_words', 'no_of_emoji', 'no_of_post_alt_words', 'profile_img_array', 'image_html_link','image_html_link', 'Added_HK_IG', 'political_words', 'Hong_Kong_words', 'Food_words', 'Beauty_words', 'Sport_words', 'Travel_words', 'Music_words', 'Education_words', 'Art_words', 'Acting_words']]"
   ]
  },
  {
   "cell_type": "code",
   "execution_count": 9,
   "id": "def7df82-3a14-423b-aad1-175460d9cd98",
   "metadata": {},
   "outputs": [],
   "source": [
    "df5.to_csv('kol_features.csv')"
   ]
  },
  {
   "cell_type": "code",
   "execution_count": 10,
   "id": "433f8880-2808-4089-8a26-e1620a09d586",
   "metadata": {},
   "outputs": [],
   "source": [
    "blob = bucket.blob('kol_features.csv')\n",
    "blob.upload_from_filename('kol_features.csv')"
   ]
  },
  {
   "cell_type": "code",
   "execution_count": null,
   "id": "4be08599-c745-4c20-8982-c88a5104f80d",
   "metadata": {},
   "outputs": [],
   "source": []
  }
 ],
 "metadata": {
  "kernelspec": {
   "display_name": "Python 3 (ipykernel)",
   "language": "python",
   "name": "python3"
  },
  "language_info": {
   "codemirror_mode": {
    "name": "ipython",
    "version": 3
   },
   "file_extension": ".py",
   "mimetype": "text/x-python",
   "name": "python",
   "nbconvert_exporter": "python",
   "pygments_lexer": "ipython3",
   "version": "3.8.5"
  }
 },
 "nbformat": 4,
 "nbformat_minor": 5
}
