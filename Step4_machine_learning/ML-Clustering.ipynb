{
 "cells": [
  {
   "cell_type": "code",
   "execution_count": 82,
   "id": "0760ffa1-d139-4816-9155-a64a7aa6a4b4",
   "metadata": {},
   "outputs": [],
   "source": [
    "# Clustering\n",
    "import pandas as pd\n",
    "df = pd.read_csv('kol_features.csv')"
   ]
  },
  {
   "cell_type": "code",
   "execution_count": 83,
   "id": "1ef94d77-4fe9-4234-8d23-39caaab69f9b",
   "metadata": {},
   "outputs": [],
   "source": [
    "import matplotlib.pyplot as plt"
   ]
  },
  {
   "cell_type": "code",
   "execution_count": 84,
   "id": "c3f1c1e4-0901-4c43-aa80-9b382620654e",
   "metadata": {},
   "outputs": [
    {
     "data": {
      "text/plain": [
       "<matplotlib.collections.PathCollection at 0x7fdc4e62cf40>"
      ]
     },
     "execution_count": 84,
     "metadata": {},
     "output_type": "execute_result"
    },
    {
     "data": {
      "image/png": "[encoded data removed]",
      "text/plain": [
       "<Figure size 432x288 with 1 Axes>"
      ]
     },
     "metadata": {
      "needs_background": "light"
     },
     "output_type": "display_data"
    }
   ],
   "source": [
    "plt.scatter(x='image_sum_comment', y = 'no_of_follower', data=df, s=10)"
   ]
  },
  {
   "cell_type": "code",
   "execution_count": 85,
   "id": "a2858646-2eae-4470-a5a1-2fb36466f917",
   "metadata": {},
   "outputs": [],
   "source": [
    "from sklearn.cluster import KMeans"
   ]
  },
  {
   "cell_type": "code",
   "execution_count": 86,
   "id": "1f400886-520d-484a-8cd8-ca084a1fd553",
   "metadata": {},
   "outputs": [],
   "source": [
    "df2 = df[['Food_words', 'Beauty_words', 'Sport_words', 'Travel_words', 'Music_words', 'Education_words', 'Art_words', 'Acting_words']].dropna()"
   ]
  },
  {
   "cell_type": "code",
   "execution_count": 87,
   "id": "8f5b7a4c-4bd8-488a-9587-c24fa0b5335e",
   "metadata": {},
   "outputs": [],
   "source": [
    "kmeans = KMeans(n_clusters=9, random_state=444).fit(df2)"
   ]
  },
  {
   "cell_type": "code",
   "execution_count": 88,
   "id": "089ab99a-1c60-4ad6-ba41-f21b0cc0d2f4",
   "metadata": {},
   "outputs": [
    {
     "data": {
      "text/plain": [
       "array([0, 0, 0, 0, 0, 0, 0, 0, 0, 0, 4, 0, 0, 0, 0, 0, 0, 0, 0, 0, 0, 0,\n",
       "       0, 0, 0, 0, 0, 0, 0, 0, 0, 0, 0, 0, 0, 0, 0, 0, 0, 0, 0, 0, 2, 0,\n",
       "       8, 0, 0, 0, 0, 0, 0, 0, 0, 0, 0, 0, 0, 8, 0, 0, 0, 0, 0, 0, 0, 0,\n",
       "       0, 0, 0, 0, 0, 0, 0, 0, 0, 0, 0, 0, 0, 0, 0, 0, 0, 0, 0, 0, 0, 0,\n",
       "       6, 0, 0, 0, 0, 0, 0, 0, 0, 0, 0, 0, 0, 0, 0, 0, 0, 0, 0, 0, 0, 0,\n",
       "       0, 0, 0, 0, 0, 0, 0, 0, 0, 0, 0, 0, 0, 0, 0, 0, 0, 0, 0, 0, 0, 0,\n",
       "       0, 0, 0, 0, 0, 0, 0, 5, 8, 0, 0, 0, 0, 0, 0, 0, 0, 0, 0, 1, 0, 0,\n",
       "       0, 7, 0, 0, 0, 0, 0, 0, 0, 3, 0, 0, 0, 0, 0, 0, 0, 0, 0, 6, 0, 0,\n",
       "       0, 0, 0, 0, 0, 0, 0, 0, 0, 0, 0, 0, 0, 0, 0, 0, 0, 0, 0, 0, 0, 0,\n",
       "       0, 0, 0, 0, 0, 1, 0, 0, 0, 1, 0, 0, 0, 0, 0, 0, 0, 0, 0, 0, 0, 0,\n",
       "       0, 0, 0, 0, 0, 0, 0, 0, 0, 0, 0, 0, 0, 0, 0, 0, 0, 0, 0, 0, 0, 0,\n",
       "       0, 0, 0, 0, 0, 0, 0, 0, 0, 0, 0, 0, 0, 0, 0, 1, 0, 6, 8, 0, 0, 0,\n",
       "       0, 0, 0, 0, 0, 0, 0, 0, 0, 0, 0, 0, 0, 0, 0, 0, 0, 0, 0, 0, 0, 0,\n",
       "       0, 0, 0, 0, 0, 0, 0, 0, 0, 0, 0, 0, 0, 0, 0, 0, 0, 0, 0, 0, 0, 0,\n",
       "       0, 0, 0, 0, 0, 0, 0, 0, 0, 0, 0, 0, 7, 0, 0, 0, 0, 0, 0, 0, 0, 0,\n",
       "       0, 0, 6, 0, 0, 0, 0, 0, 0, 0, 0, 0, 0, 0, 0, 0, 0, 0, 0, 0, 0, 0,\n",
       "       0, 0, 0, 0, 0, 0, 0, 0, 0, 0, 0, 0, 0, 0, 0, 0, 0, 0, 0, 0, 0, 0,\n",
       "       0, 7, 0, 0, 0, 0, 0, 0, 0, 0, 0, 0, 0, 0, 0, 0, 0, 0, 0, 0, 0, 0,\n",
       "       0, 0, 0, 0, 0, 0, 0, 0, 0, 6, 0, 0, 0, 0, 3, 0, 0, 0, 0, 0, 0, 0,\n",
       "       0, 0, 0, 0, 0, 0, 0, 0, 0, 0, 0, 0, 0, 0, 0, 0, 0, 0, 0, 0, 0, 0,\n",
       "       7, 0, 0, 0, 0, 0, 0, 0, 0, 0, 0, 0, 0, 0, 0, 0, 0, 0, 0, 0, 0, 0,\n",
       "       1, 0, 0, 0, 0, 0, 0, 0, 0, 0, 0, 0, 0, 0, 0, 0, 0, 0, 0, 0, 0, 0,\n",
       "       0, 0, 0, 0, 0, 0, 0, 0, 0, 7, 0, 0, 0, 2, 0, 0, 0, 0, 0, 0, 0, 0,\n",
       "       0, 0, 0, 0, 0, 0, 0, 0, 0, 0, 0, 0, 0, 0, 0, 0, 0, 0, 0, 0, 0, 0,\n",
       "       0, 0, 0, 0, 0, 0, 0, 0, 0, 0, 0, 0, 0, 0, 0, 0, 0, 0, 0, 0, 2, 0,\n",
       "       0, 0, 0, 0, 0, 0, 0, 0, 0, 0, 0, 0, 0, 0, 0, 0, 0, 0, 0, 0, 0, 0,\n",
       "       0, 0, 0, 0, 0, 0, 0, 0, 0, 0, 0, 0, 0, 1, 0, 0, 7, 0, 0, 0, 0, 0,\n",
       "       0, 0, 0, 0, 0, 0, 0, 0, 0, 0, 0, 0, 0, 0, 0, 0, 0, 0, 0, 0, 0, 0,\n",
       "       0, 0, 0, 0, 0, 0, 0, 0, 3, 0, 0, 0, 0, 0, 0, 0, 0, 0, 0, 0, 0, 0,\n",
       "       0, 0, 0, 0, 0, 0, 0, 0, 0, 0, 0, 0, 0, 0, 0, 0, 0, 0, 0, 0, 0, 0,\n",
       "       0, 0, 0, 0, 0, 0, 0, 0, 0, 0, 0, 0, 0, 0, 0, 0, 0], dtype=int32)"
      ]
     },
     "execution_count": 88,
     "metadata": {},
     "output_type": "execute_result"
    }
   ],
   "source": [
    "kmeans.labels_"
   ]
  },
  {
   "cell_type": "code",
   "execution_count": 89,
   "id": "a4b3842c-b447-4083-9c23-9d4c32e629c7",
   "metadata": {},
   "outputs": [],
   "source": [
    "from numpy import array"
   ]
  },
  {
   "cell_type": "code",
   "execution_count": 90,
   "id": "f4bed2fc-11a5-4e75-9a2d-3f3e16f30d7c",
   "metadata": {},
   "outputs": [],
   "source": [
    "# kmeans.cluster_centers_"
   ]
  },
  {
   "cell_type": "code",
   "execution_count": 91,
   "id": "06c7ef96-3132-422c-9b85-a217fcde55bf",
   "metadata": {},
   "outputs": [],
   "source": [
    "import matplotlib.pyplot as plt\n",
    "from sklearn.datasets import make_blobs\n",
    "import numpy as np\n",
    "from sklearn.preprocessing import MinMaxScaler"
   ]
  },
  {
   "cell_type": "code",
   "execution_count": 92,
   "id": "d331cbf9-3ab5-4a33-9b15-f05f59c6806e",
   "metadata": {},
   "outputs": [
    {
     "data": {
      "text/plain": [
       "<matplotlib.collections.PathCollection at 0x7fdc4d6b0a90>"
      ]
     },
     "execution_count": 92,
     "metadata": {},
     "output_type": "execute_result"
    },
    {
     "data": {
      "image/png": "[encoded data removed]",
      "text/plain": [
       "<Figure size 432x288 with 1 Axes>"
      ]
     },
     "metadata": {
      "needs_background": "light"
     },
     "output_type": "display_data"
    }
   ],
   "source": [
    "values = kmeans.labels_\n",
    "scaled = MinMaxScaler().fit_transform(values.reshape(-1, 1))\n",
    "colorLeft = np.array([112, 224, 112])\n",
    "colorRight = np.array([224, 112, 112])\n",
    "colors = np.array([a * colorRight + (1 - a) * colorLeft for a in scaled], dtype = np.int64)\n",
    "plt.title(\"Group in cluster, total 9 clusters\")\n",
    "plt.xlabel(\"IG Account\")\n",
    "plt.ylabel(\"Different Cluster\")\n",
    "plt.scatter(np.arange(len(values)), values, c = colors/255)"
   ]
  },
  {
   "cell_type": "code",
   "execution_count": 143,
   "id": "0e9892af-4b62-4b58-8f5a-84e1936f40ab",
   "metadata": {},
   "outputs": [
    {
     "data": {
      "text/plain": [
       "0.8512063034716708"
      ]
     },
     "execution_count": 143,
     "metadata": {},
     "output_type": "execute_result"
    }
   ],
   "source": [
    "# Cluster 9\n",
    "from sklearn.metrics import silhouette_score\n",
    "silhouette_score(df2, kmeans.labels_)"
   ]
  },
  {
   "cell_type": "code",
   "execution_count": 144,
   "id": "379e59ab-c1c1-4894-8f88-8498b5639c38",
   "metadata": {},
   "outputs": [],
   "source": [
    "# cluster 8 - score: 0.819187113098301\n",
    "# cluster 9 - score: 0.8512063034716708\n",
    "# cluster 10 - score: 0.79473254997339"
   ]
  },
  {
   "cell_type": "code",
   "execution_count": 145,
   "id": "6b4ebd2e-1117-4788-b907-53b8460a516a",
   "metadata": {},
   "outputs": [],
   "source": [
    "# 1st Cluster (Art)\n",
    "df3 = df2[kmeans.labels_ == 0]\n",
    "c1 = pd.merge(df, df3, left_index=True, right_index=True)\n",
    "c1['Category'] = 'Art'\n",
    "c1_new = c1[['ig_id', 'Category']]"
   ]
  },
  {
   "cell_type": "code",
   "execution_count": 146,
   "id": "f6a5a89c-d946-49b7-a4f0-56fdd1da4435",
   "metadata": {},
   "outputs": [],
   "source": [
    "# 2nd cluster - Food\n",
    "df4 = df2[kmeans.labels_ == 1]\n",
    "c2 = pd.merge(df, df4, left_index=True, right_index=True)\n",
    "c2['Category'] = 'Food'\n",
    "c2_new = c1[['ig_id', 'Category']]"
   ]
  },
  {
   "cell_type": "code",
   "execution_count": 147,
   "id": "bdbaed74-57c7-4efd-8963-ae35de204c41",
   "metadata": {},
   "outputs": [],
   "source": [
    "# 3rd cluster (Acting/Media)\n",
    "df5 = df2[kmeans.labels_ == 2]\n",
    "c3 = pd.merge(df, df5, left_index=True, right_index=True)\n",
    "c3['Category'] = 'Acting/Media'\n",
    "c3_new = c3[['ig_id', 'Category']]"
   ]
  },
  {
   "cell_type": "code",
   "execution_count": 148,
   "id": "8b7d3e5a-400f-410e-a0e9-22b0e5b24778",
   "metadata": {},
   "outputs": [],
   "source": [
    "# 4th cluster (Sport)\n",
    "df6 = df2[kmeans.labels_ == 3]\n",
    "c4 = pd.merge(df, df6, left_index=True, right_index=True)\n",
    "c4['Category'] = 'Sport'\n",
    "c4_new = c1[['ig_id', 'Category']]"
   ]
  },
  {
   "cell_type": "code",
   "execution_count": 149,
   "id": "2747bbfe-1b82-4e1b-9862-9c86b102d08e",
   "metadata": {},
   "outputs": [],
   "source": [
    "# 5th cluster (Education1)\n",
    "df7 = df2[kmeans.labels_ == 4]\n",
    "c5 = pd.merge(df, df7, left_index=True, right_index=True)\n",
    "c5['Category'] = 'Education'\n",
    "c5_new = c5[['ig_id', 'Category']]"
   ]
  },
  {
   "cell_type": "code",
   "execution_count": 150,
   "id": "b973b14c-ea2c-4649-b20b-da69a8d0953f",
   "metadata": {},
   "outputs": [],
   "source": [
    "# 6th cluster (Beauty)\n",
    "df8 = df2[kmeans.labels_ == 5]\n",
    "c6 = pd.merge(df, df8, left_index=True, right_index=True)\n",
    "c6['Category'] = 'Beauty'\n",
    "c6_new = c6[['ig_id', 'Category']]"
   ]
  },
  {
   "cell_type": "code",
   "execution_count": 151,
   "id": "fa06587c-025c-45fa-9aa0-10bb19e71cda",
   "metadata": {},
   "outputs": [],
   "source": [
    "# 7th cluster (Music)\n",
    "df9 = df2[kmeans.labels_ == 6]\n",
    "c7 = pd.merge(df, df9, left_index=True, right_index=True)\n",
    "c7['Category'] = 'Music'\n",
    "c7_new = c7[['ig_id', 'Category']]"
   ]
  },
  {
   "cell_type": "code",
   "execution_count": 152,
   "id": "c7262abb-7435-4957-900c-af2df7abe51c",
   "metadata": {},
   "outputs": [],
   "source": [
    "# 8th cluster - Travel\n",
    "df10 = df2[kmeans.labels_ == 7]\n",
    "c8 = pd.merge(df, df10, left_index=True, right_index=True)\n",
    "c8['Category'] = 'Travel'\n",
    "c8_new = c8[['ig_id', 'Category']]"
   ]
  },
  {
   "cell_type": "code",
   "execution_count": 153,
   "id": "d8283f2e-bc02-4c56-97cf-ac6970e9d065",
   "metadata": {},
   "outputs": [],
   "source": [
    "# 9th cluster - Education2\n",
    "df11 = df2[kmeans.labels_ == 8]\n",
    "c9 = pd.merge(df, df11, left_index=True, right_index=True)\n",
    "c9['Category'] = 'Education'\n",
    "c9_new = c9[['ig_id', 'Category']]"
   ]
  },
  {
   "cell_type": "code",
   "execution_count": 154,
   "id": "89c36c3b-5dd4-47c3-ab43-764173cea02c",
   "metadata": {},
   "outputs": [],
   "source": [
    "d1 = pd.concat([c1_new, c2_new], axis=0)\n",
    "d1 = pd.concat([d1, c3_new], axis=0)\n",
    "d1 = pd.concat([d1, c4_new], axis=0)\n",
    "d1 = pd.concat([d1, c5_new], axis=0)\n",
    "d1 = pd.concat([d1, c6_new], axis=0)\n",
    "d1 = pd.concat([d1, c7_new], axis=0)\n",
    "d1 = pd.concat([d1, c8_new], axis=0)\n",
    "d1 = pd.concat([d1, c9_new], axis=0)"
   ]
  },
  {
   "cell_type": "code",
   "execution_count": 163,
   "id": "f70b3288-dfb1-4b43-b981-28d2b894463c",
   "metadata": {},
   "outputs": [],
   "source": [
    "# some rows have duplicated\n",
    "d1 = d1.drop_duplicates(subset='ig_id', keep='first', inplace=False, ignore_index=False).reset_index(drop=True)"
   ]
  },
  {
   "cell_type": "code",
   "execution_count": 166,
   "id": "66bc1693-5e13-471b-8f5d-82b683a042ee",
   "metadata": {},
   "outputs": [
    {
     "data": {
      "text/html": [
       "<div>\n",
       "<style scoped>\n",
       "    .dataframe tbody tr th:only-of-type {\n",
       "        vertical-align: middle;\n",
       "    }\n",
       "\n",
       "    .dataframe tbody tr th {\n",
       "        vertical-align: top;\n",
       "    }\n",
       "\n",
       "    .dataframe thead th {\n",
       "        text-align: right;\n",
       "    }\n",
       "</style>\n",
       "<table border=\"1\" class=\"dataframe\">\n",
       "  <thead>\n",
       "    <tr style=\"text-align: right;\">\n",
       "      <th></th>\n",
       "      <th>ig_id</th>\n",
       "      <th>Category</th>\n",
       "    </tr>\n",
       "  </thead>\n",
       "  <tbody>\n",
       "    <tr>\n",
       "      <th>0</th>\n",
       "      <td>100mosthk</td>\n",
       "      <td>Art</td>\n",
       "    </tr>\n",
       "    <tr>\n",
       "      <th>1</th>\n",
       "      <td>28kkss</td>\n",
       "      <td>Art</td>\n",
       "    </tr>\n",
       "    <tr>\n",
       "      <th>2</th>\n",
       "      <td>53yfp</td>\n",
       "      <td>Art</td>\n",
       "    </tr>\n",
       "    <tr>\n",
       "      <th>3</th>\n",
       "      <td>6ixty8ight68</td>\n",
       "      <td>Art</td>\n",
       "    </tr>\n",
       "    <tr>\n",
       "      <th>4</th>\n",
       "      <td>79hkartist</td>\n",
       "      <td>Art</td>\n",
       "    </tr>\n",
       "    <tr>\n",
       "      <th>...</th>\n",
       "      <td>...</td>\n",
       "      <td>...</td>\n",
       "    </tr>\n",
       "    <tr>\n",
       "      <th>663</th>\n",
       "      <td>this.is.1218</td>\n",
       "      <td>Travel</td>\n",
       "    </tr>\n",
       "    <tr>\n",
       "      <th>664</th>\n",
       "      <td>asartisticasyou</td>\n",
       "      <td>Education</td>\n",
       "    </tr>\n",
       "    <tr>\n",
       "      <th>665</th>\n",
       "      <td>beaconcollegehk</td>\n",
       "      <td>Education</td>\n",
       "    </tr>\n",
       "    <tr>\n",
       "      <th>666</th>\n",
       "      <td>cookingsiulam</td>\n",
       "      <td>Education</td>\n",
       "    </tr>\n",
       "    <tr>\n",
       "      <th>667</th>\n",
       "      <td>iamkennethlau</td>\n",
       "      <td>Education</td>\n",
       "    </tr>\n",
       "  </tbody>\n",
       "</table>\n",
       "<p>668 rows × 2 columns</p>\n",
       "</div>"
      ],
      "text/plain": [
       "               ig_id   Category\n",
       "0          100mosthk        Art\n",
       "1             28kkss        Art\n",
       "2              53yfp        Art\n",
       "3       6ixty8ight68        Art\n",
       "4         79hkartist        Art\n",
       "..               ...        ...\n",
       "663     this.is.1218     Travel\n",
       "664  asartisticasyou  Education\n",
       "665  beaconcollegehk  Education\n",
       "666    cookingsiulam  Education\n",
       "667    iamkennethlau  Education\n",
       "\n",
       "[668 rows x 2 columns]"
      ]
     },
     "execution_count": 166,
     "metadata": {},
     "output_type": "execute_result"
    }
   ],
   "source": [
    "d1"
   ]
  },
  {
   "cell_type": "code",
   "execution_count": 167,
   "id": "f49bca7e-0c9a-4cdb-bc44-42cd7c82bdc9",
   "metadata": {},
   "outputs": [],
   "source": [
    "d1.set_index('ig_id').to_csv('result-category.csv')"
   ]
  },
  {
   "cell_type": "code",
   "execution_count": null,
   "id": "1894cba6-afa0-4699-bc76-d8b571e6610c",
   "metadata": {},
   "outputs": [],
   "source": []
  }
 ],
 "metadata": {
  "kernelspec": {
   "display_name": "Python 3 (ipykernel)",
   "language": "python",
   "name": "python3"
  },
  "language_info": {
   "codemirror_mode": {
    "name": "ipython",
    "version": 3
   },
   "file_extension": ".py",
   "mimetype": "text/x-python",
   "name": "python",
   "nbconvert_exporter": "python",
   "pygments_lexer": "ipython3",
   "version": "3.8.5"
  }
 },
 "nbformat": 4,
 "nbformat_minor": 5
}
